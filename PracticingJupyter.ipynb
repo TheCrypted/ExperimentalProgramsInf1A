{
  "nbformat": 4,
  "nbformat_minor": 0,
  "metadata": {
    "colab": {
      "provenance": [],
      "authorship_tag": "ABX9TyPr4+jIeJlORYl2mqysQ/+x",
      "include_colab_link": true
    },
    "kernelspec": {
      "name": "python3",
      "display_name": "Python 3"
    },
    "language_info": {
      "name": "python"
    }
  },
  "cells": [
    {
      "cell_type": "markdown",
      "metadata": {
        "id": "view-in-github",
        "colab_type": "text"
      },
      "source": [
        "<a href=\"https://colab.research.google.com/github/TheCrypted/ExperimentalProgramsInf1A/blob/master/PracticingJupyter.ipynb\" target=\"_parent\"><img src=\"https://colab.research.google.com/assets/colab-badge.svg\" alt=\"Open In Colab\"/></a>"
      ]
    },
    {
      "cell_type": "markdown",
      "source": [
        "# :PracticingJupyter"
      ],
      "metadata": {
        "id": "3kpwb3g6Hs8s"
      }
    },
    {
      "cell_type": "markdown",
      "source": [
        "#Introduction\n",
        "A basic jupyter notebook created to practice and learn how to work with jupyter kernels, markdown and github"
      ],
      "metadata": {
        "id": "DH8I6nNbK9ia"
      }
    },
    {
      "cell_type": "markdown",
      "source": [
        "# Data Science Languages\n",
        "- Python\n",
        "- R\n",
        "- SQL\n",
        "- Julia\n",
        "- Scala\n",
        "- Java"
      ],
      "metadata": {
        "id": "H9swka42H7cG"
      }
    },
    {
      "cell_type": "markdown",
      "source": [
        "# Data Science libraries\n",
        "Some of the popular Data Science libraries are as follows:-\n",
        "- NumPy\n",
        "-pandas\n",
        "-Matplotlib\n",
        "-seaborn\n",
        "-scikit-learn\n",
        "-TensorFlow\n",
        "-PyTorch"
      ],
      "metadata": {
        "id": "Bl_wuhmnIfHU"
      }
    },
    {
      "cell_type": "markdown",
      "source": [
        "## Data Science Tools\n",
        "- Jupyter Notebook-\n",
        "-RStudio\n",
        "-Anaconda\n",
        "-IBM Watson Studio\n",
        "-Visual Studio Code"
      ],
      "metadata": {
        "id": "sIYE0W1QI2WR"
      }
    },
    {
      "cell_type": "markdown",
      "source": [
        "# Basic Arithmetic Operations\n",
        "\n",
        "**Addition**: The addition operator (+) is used to add two or more numbers together. For example:\n",
        "```5 + 3 = 8```\n",
        "\n",
        "**Subtraction**: The subtraction operator (-) is used to find the difference between two numbers. For example:\n",
        "```10 - 4 = 6```\n",
        "\n",
        "**Multiplication**: The multiplication operator (*) is used to multiply two or more numbers. For example:\n",
        "```3 * 6 = 18```\n",
        "\n",
        "**Division**: The division operator (/) is used to divide one number by another. For example:\n",
        "```4 / 2  = 2```\n",
        "\n",
        "\n",
        "\n",
        "\n",
        "\n",
        "\n",
        "\n"
      ],
      "metadata": {
        "id": "xSvCdBp0JUOH"
      }
    },
    {
      "cell_type": "code",
      "source": [
        "def add(a, b):\n",
        "  return a+b\n",
        "def multiply(a,b):\n",
        "  return a*b"
      ],
      "metadata": {
        "id": "YPklG7A-HsEZ"
      },
      "execution_count": null,
      "outputs": []
    },
    {
      "cell_type": "code",
      "source": [
        "def toMinutes(a):\n",
        "  return a*60"
      ],
      "metadata": {
        "id": "tqOPCm4PKOn6"
      },
      "execution_count": null,
      "outputs": []
    },
    {
      "cell_type": "markdown",
      "source": [
        "# Objectives\n",
        "\n",
        "1. **Understanding the Environment**: Become familiar with the Jupyter Notebook interface, its components, and how to create, save, and open notebooks.\n",
        "\n",
        "2. **Markdown and Text Formatting**: Practice using Markdown cells to add formatted text, headings, lists, links, and images.\n",
        "\n",
        "3. **Code Execution**: Practice executing code cells to understand how Python (or other kernel languages) works in Jupyter Notebook."
      ],
      "metadata": {
        "id": "IU1pCTWiKaeR"
      }
    },
    {
      "cell_type": "markdown",
      "source": [
        "#Author Name: Aman Sharma"
      ],
      "metadata": {
        "id": "dgUFofgyKz8T"
      }
    }
  ]
}